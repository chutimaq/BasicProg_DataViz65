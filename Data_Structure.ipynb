{
  "nbformat": 4,
  "nbformat_minor": 0,
  "metadata": {
    "colab": {
      "name": "Data Structure.ipynb",
      "provenance": [],
      "toc_visible": true,
      "authorship_tag": "ABX9TyOBrzECOfiIDcGKlXspnmWw",
      "include_colab_link": true
    },
    "kernelspec": {
      "name": "python3",
      "display_name": "Python 3"
    },
    "language_info": {
      "name": "python"
    }
  },
  "cells": [
    {
      "cell_type": "markdown",
      "metadata": {
        "id": "view-in-github",
        "colab_type": "text"
      },
      "source": [
        "<a href=\"https://colab.research.google.com/github/chutimaq/BasicProg_DataViz65/blob/main/Data_Structure.ipynb\" target=\"_parent\"><img src=\"https://colab.research.google.com/assets/colab-badge.svg\" alt=\"Open In Colab\"/></a>"
      ]
    },
    {
      "cell_type": "markdown",
      "source": [
        "# Data Structure (โครงสร้างข้อมูล)\n",
        "การเก็บข้อมูลหลายๆตัวไว้ด้วยกันอย่างเป็นระบบ"
      ],
      "metadata": {
        "id": "vCihrTLKPtid"
      }
    },
    {
      "cell_type": "markdown",
      "source": [
        "## `list()`\n",
        "\n",
        "\n",
        "\n",
        "*   เก็บอะไรก็ได้\n",
        "*   ลำดับในการเก็บ มีความสำคัญ\n",
        "\n"
      ],
      "metadata": {
        "id": "Y6Gk6yOeQBUT"
      }
    },
    {
      "cell_type": "code",
      "execution_count": 59,
      "metadata": {
        "id": "z4ekXV6POJwn"
      },
      "outputs": [],
      "source": [
        "list_a = [1,2,3,4,5,6]   # [ ] square brackets"
      ]
    },
    {
      "cell_type": "code",
      "source": [
        "list_a"
      ],
      "metadata": {
        "colab": {
          "base_uri": "https://localhost:8080/"
        },
        "id": "5r3ThLBxQXJK",
        "outputId": "42843bdb-69c1-46bd-e01c-69cc7cded6f5"
      },
      "execution_count": 60,
      "outputs": [
        {
          "output_type": "execute_result",
          "data": {
            "text/plain": [
              "[1, 2, 3, 4, 5, 6]"
            ]
          },
          "metadata": {},
          "execution_count": 60
        }
      ]
    },
    {
      "cell_type": "code",
      "source": [
        "list_b = ['ab',2,3.14,list_a]"
      ],
      "metadata": {
        "id": "X9Q9d5syQYo2"
      },
      "execution_count": 61,
      "outputs": []
    },
    {
      "cell_type": "code",
      "source": [
        "list_b"
      ],
      "metadata": {
        "colab": {
          "base_uri": "https://localhost:8080/"
        },
        "id": "HC8Of3YDQgnx",
        "outputId": "f12866bb-50f8-4682-9e48-d85446525397"
      },
      "execution_count": 62,
      "outputs": [
        {
          "output_type": "execute_result",
          "data": {
            "text/plain": [
              "['ab', 2, 3.14, [1, 2, 3, 4, 5, 6]]"
            ]
          },
          "metadata": {},
          "execution_count": 62
        }
      ]
    },
    {
      "cell_type": "markdown",
      "source": [
        "### indexing การชี้สมาชิกใน list ด้วย เลขลำดับของ list"
      ],
      "metadata": {
        "id": "oNhQfNS6ROWf"
      }
    },
    {
      "cell_type": "code",
      "source": [
        "list_a[3]"
      ],
      "metadata": {
        "colab": {
          "base_uri": "https://localhost:8080/"
        },
        "id": "JKQwQGLHQik-",
        "outputId": "743d9563-4fbf-43f5-f070-a3beeb1fdf04"
      },
      "execution_count": 63,
      "outputs": [
        {
          "output_type": "execute_result",
          "data": {
            "text/plain": [
              "4"
            ]
          },
          "metadata": {},
          "execution_count": 63
        }
      ]
    },
    {
      "cell_type": "code",
      "source": [
        "list_b[3]"
      ],
      "metadata": {
        "colab": {
          "base_uri": "https://localhost:8080/"
        },
        "id": "BTfF5PG_Q0kh",
        "outputId": "3534f3aa-b045-4a6a-b10d-497dc77a39cd"
      },
      "execution_count": 64,
      "outputs": [
        {
          "output_type": "execute_result",
          "data": {
            "text/plain": [
              "[1, 2, 3, 4, 5, 6]"
            ]
          },
          "metadata": {},
          "execution_count": 64
        }
      ]
    },
    {
      "cell_type": "code",
      "source": [
        "list_b[3] [4]"
      ],
      "metadata": {
        "colab": {
          "base_uri": "https://localhost:8080/"
        },
        "id": "T-pYvZMxQ76b",
        "outputId": "e723908f-4ded-42e2-ddd4-7bf6fd5bc4a5"
      },
      "execution_count": 65,
      "outputs": [
        {
          "output_type": "execute_result",
          "data": {
            "text/plain": [
              "5"
            ]
          },
          "metadata": {},
          "execution_count": 65
        }
      ]
    },
    {
      "cell_type": "code",
      "source": [
        "list_a[6]  # เรียกลำดับที่ไม่มีใน list"
      ],
      "metadata": {
        "id": "KwyC3uR2RCa1",
        "outputId": "c219d41b-2626-44c0-e2a4-567f3ad476fe",
        "colab": {
          "base_uri": "https://localhost:8080/",
          "height": 166
        }
      },
      "execution_count": 66,
      "outputs": [
        {
          "output_type": "error",
          "ename": "IndexError",
          "evalue": "ignored",
          "traceback": [
            "\u001b[0;31m---------------------------------------------------------------------------\u001b[0m",
            "\u001b[0;31mIndexError\u001b[0m                                Traceback (most recent call last)",
            "\u001b[0;32m<ipython-input-66-c277eaf41330>\u001b[0m in \u001b[0;36m<module>\u001b[0;34m()\u001b[0m\n\u001b[0;32m----> 1\u001b[0;31m \u001b[0mlist_a\u001b[0m\u001b[0;34m[\u001b[0m\u001b[0;36m6\u001b[0m\u001b[0;34m]\u001b[0m  \u001b[0;31m# เรียกลำดับที่ไม่มีใน list\u001b[0m\u001b[0;34m\u001b[0m\u001b[0;34m\u001b[0m\u001b[0m\n\u001b[0m",
            "\u001b[0;31mIndexError\u001b[0m: list index out of range"
          ]
        }
      ]
    },
    {
      "cell_type": "code",
      "source": [
        "list_a[-1]  # index -1 คือตัวสุดท้ายของ list"
      ],
      "metadata": {
        "id": "a2PCJLV0Rh8Y"
      },
      "execution_count": null,
      "outputs": []
    },
    {
      "cell_type": "code",
      "source": [
        "list_a[-4]  # นับจากท้ายไปหน้า"
      ],
      "metadata": {
        "id": "460deDXIRz40"
      },
      "execution_count": null,
      "outputs": []
    },
    {
      "cell_type": "markdown",
      "source": [
        "### การสร้าง `list()`"
      ],
      "metadata": {
        "id": "l05BovbDSeOC"
      }
    },
    {
      "cell_type": "code",
      "source": [
        "list_x1 = []  # แบบที่ 1\n",
        "list_x2 = list()  # แบบที่ 2"
      ],
      "metadata": {
        "id": "0xDNt6zkR_pI"
      },
      "execution_count": null,
      "outputs": []
    },
    {
      "cell_type": "code",
      "source": [
        "print(list_x1)\n",
        "print(list_x2)"
      ],
      "metadata": {
        "id": "gKjBMcmHS44L"
      },
      "execution_count": null,
      "outputs": []
    },
    {
      "cell_type": "markdown",
      "source": [
        "### เพิ่มสามชิกเข้าไปใน list ด้วย `append()`"
      ],
      "metadata": {
        "id": "j6y17bIrTIQD"
      }
    },
    {
      "cell_type": "code",
      "source": [
        "list_x1.append(2)"
      ],
      "metadata": {
        "id": "Ur_aZxjuTAIp"
      },
      "execution_count": null,
      "outputs": []
    },
    {
      "cell_type": "code",
      "source": [
        "list_x1"
      ],
      "metadata": {
        "id": "pVIFxjslTa2y"
      },
      "execution_count": null,
      "outputs": []
    },
    {
      "cell_type": "code",
      "source": [
        "list_x1.append(4)\n",
        "print(list_x1)"
      ],
      "metadata": {
        "id": "q-tS4cwnTcp1"
      },
      "execution_count": null,
      "outputs": []
    },
    {
      "cell_type": "code",
      "source": [
        "list_x1[0]"
      ],
      "metadata": {
        "id": "aa-fwEKVTsos"
      },
      "execution_count": null,
      "outputs": []
    },
    {
      "cell_type": "code",
      "source": [
        "list_x1[-1]"
      ],
      "metadata": {
        "id": "kL-D_LwoT_iO"
      },
      "execution_count": null,
      "outputs": []
    },
    {
      "cell_type": "code",
      "source": [
        "list_x2"
      ],
      "metadata": {
        "id": "DtTIWZTRUDUz"
      },
      "execution_count": null,
      "outputs": []
    },
    {
      "cell_type": "code",
      "source": [
        "list_x2.append('ha')"
      ],
      "metadata": {
        "id": "hSpaB7VgUFSY"
      },
      "execution_count": null,
      "outputs": []
    },
    {
      "cell_type": "code",
      "source": [
        "list_x2"
      ],
      "metadata": {
        "id": "R16f5LinUTEk"
      },
      "execution_count": null,
      "outputs": []
    },
    {
      "cell_type": "markdown",
      "source": [
        "### ลบสมาชิกจาก list"
      ],
      "metadata": {
        "id": "i-AVnWWEUwzC"
      }
    },
    {
      "cell_type": "code",
      "source": [
        "list_x1.append('ha')"
      ],
      "metadata": {
        "id": "m4iKKekHUXvm"
      },
      "execution_count": null,
      "outputs": []
    },
    {
      "cell_type": "code",
      "source": [
        "list_x1"
      ],
      "metadata": {
        "id": "hUusGT4SVBDw"
      },
      "execution_count": null,
      "outputs": []
    },
    {
      "cell_type": "code",
      "source": [
        "list_x1.pop()"
      ],
      "metadata": {
        "id": "28zegkrsV5UH"
      },
      "execution_count": null,
      "outputs": []
    },
    {
      "cell_type": "code",
      "source": [
        "list_x1"
      ],
      "metadata": {
        "id": "ksf7C47-WA72"
      },
      "execution_count": null,
      "outputs": []
    },
    {
      "cell_type": "code",
      "source": [
        "list_x1.pop()\n",
        "print(list_x1)"
      ],
      "metadata": {
        "id": "31u80uiOVDMo"
      },
      "execution_count": null,
      "outputs": []
    },
    {
      "cell_type": "markdown",
      "source": [
        "### `len()` ตรวจสอบจำนวนสมาชิกของ list"
      ],
      "metadata": {
        "id": "ZHcxdXAaWDyK"
      }
    },
    {
      "cell_type": "code",
      "source": [
        "print(list_b)\n",
        "print(len(list_b))"
      ],
      "metadata": {
        "id": "LP3w74NzVNNd"
      },
      "execution_count": null,
      "outputs": []
    },
    {
      "cell_type": "code",
      "source": [
        "len(list_a)"
      ],
      "metadata": {
        "id": "whDagbIGWTQ_"
      },
      "execution_count": null,
      "outputs": []
    },
    {
      "cell_type": "markdown",
      "source": [
        "### String a list of characters"
      ],
      "metadata": {
        "id": "UVyBxSd6WaEV"
      }
    },
    {
      "cell_type": "code",
      "source": [
        "st_stat = 'Department of Statistics, Faculty of Science'"
      ],
      "metadata": {
        "id": "Fe2JpwChWXfJ"
      },
      "execution_count": null,
      "outputs": []
    },
    {
      "cell_type": "code",
      "source": [
        "st_stat[10]"
      ],
      "metadata": {
        "id": "NZcpeTYtWxwJ"
      },
      "execution_count": null,
      "outputs": []
    },
    {
      "cell_type": "code",
      "source": [
        "len(st_stat)"
      ],
      "metadata": {
        "id": "YkAsfrlsW0ev"
      },
      "execution_count": null,
      "outputs": []
    },
    {
      "cell_type": "markdown",
      "source": [
        "### List Slicing `:`"
      ],
      "metadata": {
        "id": "JCHHpE_OW95Z"
      }
    },
    {
      "cell_type": "markdown",
      "source": [
        "`list[จุดเริ่มต้น (ทึบ):จุดสุดท้าย (โปร่ง)]`\n",
        "\n",
        "`list[จุดเริ่มต้น (ทึบ):จุดสุดท้าย (โปร่ง):step]`"
      ],
      "metadata": {
        "id": "OroHybWTXcRs"
      }
    },
    {
      "cell_type": "markdown",
      "source": [
        "![288462633_757667612347569_3786363075778915826_n.png](data:image/png;base64,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)"
      ],
      "metadata": {
        "id": "xv3g3kT2ZbTQ"
      }
    },
    {
      "cell_type": "code",
      "source": [
        "list_a"
      ],
      "metadata": {
        "id": "kADHK172W3he"
      },
      "execution_count": null,
      "outputs": []
    },
    {
      "cell_type": "code",
      "source": [
        "list_a[2]"
      ],
      "metadata": {
        "id": "20OiyupWXMHD"
      },
      "execution_count": null,
      "outputs": []
    },
    {
      "cell_type": "markdown",
      "source": [
        "#### `:` colon"
      ],
      "metadata": {
        "id": "c2wmkpdvcvZG"
      }
    },
    {
      "cell_type": "code",
      "source": [
        "list_a[-3:]   # : colon"
      ],
      "metadata": {
        "id": "Pnr70tbvXN5R"
      },
      "execution_count": null,
      "outputs": []
    },
    {
      "cell_type": "code",
      "source": [
        "list_a[:4]   # : colon"
      ],
      "metadata": {
        "id": "craS2-DJaCZs"
      },
      "execution_count": null,
      "outputs": []
    },
    {
      "cell_type": "code",
      "source": [
        "list_a[1:4]"
      ],
      "metadata": {
        "id": "vHmB_j_TXbW_"
      },
      "execution_count": null,
      "outputs": []
    },
    {
      "cell_type": "code",
      "source": [
        "list_a[:]"
      ],
      "metadata": {
        "id": "LRo3htzZajjx"
      },
      "execution_count": null,
      "outputs": []
    },
    {
      "cell_type": "markdown",
      "source": [
        "#### step"
      ],
      "metadata": {
        "id": "TtpePWRvarYS"
      }
    },
    {
      "cell_type": "code",
      "source": [
        "list_c = [1,2,3,4,5,6,7,8,9,10,11,12,13]"
      ],
      "metadata": {
        "id": "FZ_7anQqamYa"
      },
      "execution_count": null,
      "outputs": []
    },
    {
      "cell_type": "code",
      "source": [
        "list_c[:10:]"
      ],
      "metadata": {
        "id": "7InuXz9Xa5k8"
      },
      "execution_count": null,
      "outputs": []
    },
    {
      "cell_type": "code",
      "source": [
        "list_c[:10:2]"
      ],
      "metadata": {
        "id": "q3vHfYYba_jI"
      },
      "execution_count": null,
      "outputs": []
    },
    {
      "cell_type": "code",
      "source": [
        "list_c[::-1]   # หลังไปหน้า"
      ],
      "metadata": {
        "id": "WWp_jooHbDo1"
      },
      "execution_count": null,
      "outputs": []
    },
    {
      "cell_type": "markdown",
      "source": [
        "### `range()`"
      ],
      "metadata": {
        "id": "gQaJQDETbfEF"
      }
    },
    {
      "cell_type": "code",
      "source": [
        "range(21)"
      ],
      "metadata": {
        "id": "9zW8MumCcQz-"
      },
      "execution_count": null,
      "outputs": []
    },
    {
      "cell_type": "code",
      "source": [
        "a = list(range(21))"
      ],
      "metadata": {
        "id": "L4_h6rTCbZMV"
      },
      "execution_count": null,
      "outputs": []
    },
    {
      "cell_type": "code",
      "source": [
        "a"
      ],
      "metadata": {
        "id": "nsoPeMNKbuA8"
      },
      "execution_count": null,
      "outputs": []
    },
    {
      "cell_type": "code",
      "source": [
        "list(range(1,21))"
      ],
      "metadata": {
        "id": "aAsmdSIsbvQa"
      },
      "execution_count": null,
      "outputs": []
    },
    {
      "cell_type": "markdown",
      "source": [
        "## HW2 \n",
        "คำนวณเวลาเป็นวินาทีของเวลาต่อไปนี้โดยใช้คำสั่ง split() ช่วย (print ออกมาให้สวยงาม)\n",
        "\n",
        "\n",
        "\n",
        "*   12:30:15\n",
        "*   13:41:07\n",
        "*   09:11:50\n",
        "*   21:30:15\n",
        "*   03:10:15\n",
        "\n"
      ],
      "metadata": {
        "id": "4diTXqfFdd2r"
      }
    },
    {
      "cell_type": "code",
      "source": [
        "#01:02:03 ตัวอย่าง\n",
        "\n",
        "a = (1*60*60) + (2*60) + 3 \n",
        "print(f'01:02:03 แปลงเป็นวินาที ได้ {a} วินาที')"
      ],
      "metadata": {
        "id": "J-WGc9NCeMOA"
      },
      "execution_count": null,
      "outputs": []
    },
    {
      "cell_type": "code",
      "source": [
        "ex = '12:30:15'\n",
        "print(ex)"
      ],
      "metadata": {
        "id": "d2erHdWHiqHH"
      },
      "execution_count": null,
      "outputs": []
    },
    {
      "cell_type": "code",
      "source": [
        "sp_ex = ex.split(':')\n",
        "print(sp_ex)"
      ],
      "metadata": {
        "id": "PYexq2tCjDGz"
      },
      "execution_count": null,
      "outputs": []
    },
    {
      "cell_type": "code",
      "source": [
        "total_sec = (int(sp_ex[0])*60*60) + (int(sp_ex[1])*60) + int(sp_ex[2])\n",
        "print(total_sec)"
      ],
      "metadata": {
        "id": "44amlXqajSnJ"
      },
      "execution_count": null,
      "outputs": []
    },
    {
      "cell_type": "code",
      "source": [
        "print (f'เวลา {ex} สามารถแปลงเป็นหน่วยวินาทีได้ {total_sec:,} วินาที')"
      ],
      "metadata": {
        "id": "414EP6VfkEj0"
      },
      "execution_count": null,
      "outputs": []
    },
    {
      "cell_type": "markdown",
      "source": [
        "## Dictionary"
      ],
      "metadata": {
        "id": "rFnif9iLk75V"
      }
    },
    {
      "cell_type": "markdown",
      "source": [
        "\n",
        "\n",
        "*   คล้าย list()\n",
        "*   index เป็นอะไรก็ได้ ไม่จำเป็นต้องเป็นตัวเลขลำดับ\n",
        "*   ลำดับไม่มีความสำคัญ\n",
        "\n"
      ],
      "metadata": {
        "id": "SYvmKVCol2vm"
      }
    },
    {
      "cell_type": "markdown",
      "source": [
        "### สร้าง Dictionary"
      ],
      "metadata": {
        "id": "JCWO-ExjndVY"
      }
    },
    {
      "cell_type": "code",
      "source": [
        "dict_a ={1:'Happy','N':'New','2022':'Year'}   # { } curly brackets"
      ],
      "metadata": {
        "id": "qt3fE0-AlW8L"
      },
      "execution_count": null,
      "outputs": []
    },
    {
      "cell_type": "markdown",
      "source": [
        "### การชี้ สมาชิกใน Dictionary"
      ],
      "metadata": {
        "id": "jOzcFythnmr1"
      }
    },
    {
      "cell_type": "code",
      "source": [
        "dict_a[1]"
      ],
      "metadata": {
        "id": "wF1ZBRZFmpyW"
      },
      "execution_count": null,
      "outputs": []
    },
    {
      "cell_type": "code",
      "source": [
        "dict_a['N']"
      ],
      "metadata": {
        "id": "44XVybKQnA02"
      },
      "execution_count": null,
      "outputs": []
    },
    {
      "cell_type": "code",
      "source": [
        "dict_a.keys()"
      ],
      "metadata": {
        "id": "Nwn3-a6hnF5a"
      },
      "execution_count": null,
      "outputs": []
    },
    {
      "cell_type": "code",
      "source": [
        "dict_a.values()"
      ],
      "metadata": {
        "id": "S_dpvhrjnSQo"
      },
      "execution_count": null,
      "outputs": []
    },
    {
      "cell_type": "markdown",
      "source": [
        "### การเพิ่มสามชิกลงไปใน Dictionary"
      ],
      "metadata": {
        "id": "iT48dKpCnwkk"
      }
    },
    {
      "cell_type": "code",
      "source": [
        "dict_a[7] = 3.14"
      ],
      "metadata": {
        "id": "mj9p4XNTnaz8"
      },
      "execution_count": null,
      "outputs": []
    },
    {
      "cell_type": "code",
      "source": [
        "dict_a"
      ],
      "metadata": {
        "id": "x3vN8iA3n7_R"
      },
      "execution_count": null,
      "outputs": []
    },
    {
      "cell_type": "code",
      "source": [
        "dict_a['N'] = 'NNNNEEEEWWWW'"
      ],
      "metadata": {
        "id": "J_dHVmMVoB7J"
      },
      "execution_count": null,
      "outputs": []
    },
    {
      "cell_type": "code",
      "source": [
        "dict_a"
      ],
      "metadata": {
        "id": "HjRWfGWNoKax"
      },
      "execution_count": null,
      "outputs": []
    },
    {
      "cell_type": "markdown",
      "source": [
        "## Numpy Array"
      ],
      "metadata": {
        "id": "VqoxwI0ilE9O"
      }
    },
    {
      "cell_type": "markdown",
      "source": [
        "![293392080_580036047070807_8374148515517757115_n.jpg](data:image/jpeg;base64,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)"
      ],
      "metadata": {
        "id": "JQS1THeFpbKV"
      }
    },
    {
      "cell_type": "markdown",
      "source": [
        "\n",
        "\n",
        "*   เก็บได้แแต่ตัวเลข\n",
        "*   อ้างอิงโดยใช้ พิกัด (2มิติ ก็มองเป็น Matrix)\n",
        "\n"
      ],
      "metadata": {
        "id": "kjXL2N1KAYxo"
      }
    },
    {
      "cell_type": "code",
      "source": [
        "import numpy"
      ],
      "metadata": {
        "id": "c_oMgI2LA1V0"
      },
      "execution_count": null,
      "outputs": []
    },
    {
      "cell_type": "markdown",
      "source": [
        "### 1D array"
      ],
      "metadata": {
        "id": "DOyNwCHNHfOu"
      }
    },
    {
      "cell_type": "code",
      "source": [
        "list_A = [1,2,3,4,5]"
      ],
      "metadata": {
        "id": "H4geOd0xBqZr"
      },
      "execution_count": 71,
      "outputs": []
    },
    {
      "cell_type": "code",
      "source": [
        "arr_a = numpy.array(list_A)"
      ],
      "metadata": {
        "id": "uuTsrvDpBGIn"
      },
      "execution_count": 72,
      "outputs": []
    },
    {
      "cell_type": "code",
      "source": [
        "arr_a"
      ],
      "metadata": {
        "id": "ZgbDrxg2BSj1",
        "outputId": "0d3f63ae-272d-43c3-8163-95bced62e087",
        "colab": {
          "base_uri": "https://localhost:8080/"
        }
      },
      "execution_count": 73,
      "outputs": [
        {
          "output_type": "execute_result",
          "data": {
            "text/plain": [
              "array([1, 2, 3, 4, 5])"
            ]
          },
          "metadata": {},
          "execution_count": 73
        }
      ]
    },
    {
      "cell_type": "code",
      "source": [
        "list_A"
      ],
      "metadata": {
        "id": "TqFx6_7tCTgJ",
        "outputId": "4f3dbaf0-893d-4d2f-f0f5-0433d8a2d508",
        "colab": {
          "base_uri": "https://localhost:8080/"
        }
      },
      "execution_count": 74,
      "outputs": [
        {
          "output_type": "execute_result",
          "data": {
            "text/plain": [
              "[1, 2, 3, 4, 5]"
            ]
          },
          "metadata": {},
          "execution_count": 74
        }
      ]
    },
    {
      "cell_type": "code",
      "source": [
        "arr_a[0]"
      ],
      "metadata": {
        "id": "D8o0S86VBfUY",
        "outputId": "80c567bb-1e06-4815-8867-086091da9c3e",
        "colab": {
          "base_uri": "https://localhost:8080/"
        }
      },
      "execution_count": 75,
      "outputs": [
        {
          "output_type": "execute_result",
          "data": {
            "text/plain": [
              "1"
            ]
          },
          "metadata": {},
          "execution_count": 75
        }
      ]
    },
    {
      "cell_type": "code",
      "source": [
        "list_A[0]"
      ],
      "metadata": {
        "id": "7Qe0WxusFnAm",
        "outputId": "4821cdca-aafd-4bcd-9b88-f48e04cc9583",
        "colab": {
          "base_uri": "https://localhost:8080/"
        }
      },
      "execution_count": 76,
      "outputs": [
        {
          "output_type": "execute_result",
          "data": {
            "text/plain": [
              "1"
            ]
          },
          "metadata": {},
          "execution_count": 76
        }
      ]
    },
    {
      "cell_type": "code",
      "source": [
        "5 * arr_a   # Matrix (scalar mulltiplication)"
      ],
      "metadata": {
        "id": "A18jpBFFFrKI",
        "outputId": "0ea767e0-0922-4c34-df68-8a27cd0f25f5",
        "colab": {
          "base_uri": "https://localhost:8080/"
        }
      },
      "execution_count": 77,
      "outputs": [
        {
          "output_type": "execute_result",
          "data": {
            "text/plain": [
              "array([ 5, 10, 15, 20, 25])"
            ]
          },
          "metadata": {},
          "execution_count": 77
        }
      ]
    },
    {
      "cell_type": "code",
      "source": [
        "5 * list_A"
      ],
      "metadata": {
        "id": "NW4VrUwxGGea",
        "outputId": "0ffc0778-b8a1-457a-ddf0-fbb852c0e3b3",
        "colab": {
          "base_uri": "https://localhost:8080/"
        }
      },
      "execution_count": 78,
      "outputs": [
        {
          "output_type": "execute_result",
          "data": {
            "text/plain": [
              "[1, 2, 3, 4, 5, 1, 2, 3, 4, 5, 1, 2, 3, 4, 5, 1, 2, 3, 4, 5, 1, 2, 3, 4, 5]"
            ]
          },
          "metadata": {},
          "execution_count": 78
        }
      ]
    },
    {
      "cell_type": "code",
      "source": [
        "arr_b = numpy.array([10,20,30,40,50])"
      ],
      "metadata": {
        "id": "32ES_wEtG7yt"
      },
      "execution_count": 79,
      "outputs": []
    },
    {
      "cell_type": "code",
      "source": [
        "print(arr_a)"
      ],
      "metadata": {
        "id": "HAubHwZAHFni",
        "outputId": "e15a6716-5235-4c94-9105-4a9f335b0f7f",
        "colab": {
          "base_uri": "https://localhost:8080/"
        }
      },
      "execution_count": 80,
      "outputs": [
        {
          "output_type": "stream",
          "name": "stdout",
          "text": [
            "[1 2 3 4 5]\n"
          ]
        }
      ]
    },
    {
      "cell_type": "code",
      "source": [
        "arr_a + arr_b"
      ],
      "metadata": {
        "id": "tBrXrqGxHL7U",
        "outputId": "27292193-94e6-4a0b-8e34-88adcdf4f8d3",
        "colab": {
          "base_uri": "https://localhost:8080/"
        }
      },
      "execution_count": 81,
      "outputs": [
        {
          "output_type": "execute_result",
          "data": {
            "text/plain": [
              "array([11, 22, 33, 44, 55])"
            ]
          },
          "metadata": {},
          "execution_count": 81
        }
      ]
    },
    {
      "cell_type": "code",
      "source": [
        "arr_a.shape"
      ],
      "metadata": {
        "id": "cviuS-8KJ8DQ",
        "outputId": "b29ed1c4-a101-424c-a014-478a05943af8",
        "colab": {
          "base_uri": "https://localhost:8080/"
        }
      },
      "execution_count": 82,
      "outputs": [
        {
          "output_type": "execute_result",
          "data": {
            "text/plain": [
              "(5,)"
            ]
          },
          "metadata": {},
          "execution_count": 82
        }
      ]
    },
    {
      "cell_type": "markdown",
      "source": [
        "### 2D array"
      ],
      "metadata": {
        "id": "UZsp2YJJHtl3"
      }
    },
    {
      "cell_type": "code",
      "source": [
        "import numpy as np"
      ],
      "metadata": {
        "id": "SCGmJHFuH3yd"
      },
      "execution_count": 67,
      "outputs": []
    },
    {
      "cell_type": "code",
      "source": [
        "arr2_z = np.array([[1,2,3],[4,5,6]])"
      ],
      "metadata": {
        "id": "hXHJ3hqqHyhj"
      },
      "execution_count": 68,
      "outputs": []
    },
    {
      "cell_type": "code",
      "source": [
        "arr2_z"
      ],
      "metadata": {
        "id": "7rGRxn_NIuF1",
        "outputId": "c1aea114-3694-49df-ebe7-68584757bf08",
        "colab": {
          "base_uri": "https://localhost:8080/"
        }
      },
      "execution_count": 69,
      "outputs": [
        {
          "output_type": "execute_result",
          "data": {
            "text/plain": [
              "array([[1, 2, 3],\n",
              "       [4, 5, 6]])"
            ]
          },
          "metadata": {},
          "execution_count": 69
        }
      ]
    },
    {
      "cell_type": "code",
      "source": [
        "arr2_z.shape"
      ],
      "metadata": {
        "id": "k2z5xbQlJwb5",
        "outputId": "9cf7aa1a-1609-4a10-d2e6-7bc92ea1d432",
        "colab": {
          "base_uri": "https://localhost:8080/"
        }
      },
      "execution_count": 70,
      "outputs": [
        {
          "output_type": "execute_result",
          "data": {
            "text/plain": [
              "(2, 3)"
            ]
          },
          "metadata": {},
          "execution_count": 70
        }
      ]
    },
    {
      "cell_type": "markdown",
      "source": [
        "### `np.zeros()`"
      ],
      "metadata": {
        "id": "8wEKZnq3I6iM"
      }
    },
    {
      "cell_type": "code",
      "source": [
        "arr2_3_5_0 = np.zeros((3,5))"
      ],
      "metadata": {
        "id": "jkSdbVOnKFTa"
      },
      "execution_count": 83,
      "outputs": []
    },
    {
      "cell_type": "code",
      "source": [
        "arr2_3_5_0"
      ],
      "metadata": {
        "id": "eutL0onmKGyI",
        "outputId": "e01f6352-d262-4be9-e4a2-d07c296aa7e3",
        "colab": {
          "base_uri": "https://localhost:8080/"
        }
      },
      "execution_count": 84,
      "outputs": [
        {
          "output_type": "execute_result",
          "data": {
            "text/plain": [
              "array([[0., 0., 0., 0., 0.],\n",
              "       [0., 0., 0., 0., 0.],\n",
              "       [0., 0., 0., 0., 0.]])"
            ]
          },
          "metadata": {},
          "execution_count": 84
        }
      ]
    },
    {
      "cell_type": "code",
      "source": [
        "arr2_3_5_0[1,2] = 9   # กำหนดค่า"
      ],
      "metadata": {
        "id": "96jh509xKzIX"
      },
      "execution_count": 85,
      "outputs": []
    },
    {
      "cell_type": "code",
      "source": [
        "arr2_3_5_0"
      ],
      "metadata": {
        "id": "x1ObeTbeK6RA",
        "outputId": "41917b02-fbd1-42a1-ba41-d602fe33a9dd",
        "colab": {
          "base_uri": "https://localhost:8080/"
        }
      },
      "execution_count": 86,
      "outputs": [
        {
          "output_type": "execute_result",
          "data": {
            "text/plain": [
              "array([[0., 0., 0., 0., 0.],\n",
              "       [0., 0., 9., 0., 0.],\n",
              "       [0., 0., 0., 0., 0.]])"
            ]
          },
          "metadata": {},
          "execution_count": 86
        }
      ]
    },
    {
      "cell_type": "code",
      "source": [
        "arr2_3_5_0[1,2]   # ชี้"
      ],
      "metadata": {
        "id": "oKUSbHuQLE3T",
        "outputId": "1e571ff2-63b7-4ee6-cf4b-c4c3b9576cf7",
        "colab": {
          "base_uri": "https://localhost:8080/"
        }
      },
      "execution_count": 87,
      "outputs": [
        {
          "output_type": "execute_result",
          "data": {
            "text/plain": [
              "9.0"
            ]
          },
          "metadata": {},
          "execution_count": 87
        }
      ]
    },
    {
      "cell_type": "code",
      "source": [
        "print(list_A)   # เปลี่ยนค่าใน list()\n",
        "list_A[-1] = 'Chrismas'\n",
        "print(list_A)"
      ],
      "metadata": {
        "id": "58X0FybDMn6F",
        "outputId": "78ee0d9f-c0ad-4053-d57d-19c3657065da",
        "colab": {
          "base_uri": "https://localhost:8080/"
        }
      },
      "execution_count": 88,
      "outputs": [
        {
          "output_type": "stream",
          "name": "stdout",
          "text": [
            "[1, 2, 3, 4, 5]\n",
            "[1, 2, 3, 4, 'Chrismas']\n"
          ]
        }
      ]
    },
    {
      "cell_type": "markdown",
      "source": [
        "### `np.zeros()`"
      ],
      "metadata": {
        "id": "qa4mlT97O7_I"
      }
    },
    {
      "cell_type": "code",
      "source": [
        "arr2_4_5_1 = np.ones((4,5))"
      ],
      "metadata": {
        "id": "Fwn2n2cYPXFV"
      },
      "execution_count": 89,
      "outputs": []
    },
    {
      "cell_type": "code",
      "source": [
        "arr2_4_5_1"
      ],
      "metadata": {
        "id": "jCqLPU3LPgWE",
        "outputId": "027b0ae3-bfe7-42ff-f5d7-ac0f53efce7a",
        "colab": {
          "base_uri": "https://localhost:8080/"
        }
      },
      "execution_count": 91,
      "outputs": [
        {
          "output_type": "execute_result",
          "data": {
            "text/plain": [
              "array([[1., 1., 1., 1., 1.],\n",
              "       [1., 1., 1., 1., 1.],\n",
              "       [1., 1., 1., 1., 1.],\n",
              "       [1., 1., 1., 1., 1.]])"
            ]
          },
          "metadata": {},
          "execution_count": 91
        }
      ]
    },
    {
      "cell_type": "code",
      "source": [
        "arr2_4_5_200 = 200*np.ones((4,5))"
      ],
      "metadata": {
        "id": "RVRVbLQ-PpIm"
      },
      "execution_count": 92,
      "outputs": []
    },
    {
      "cell_type": "code",
      "source": [
        "arr2_4_5_200"
      ],
      "metadata": {
        "id": "3Rgji877PwqM",
        "outputId": "a235e41a-8ac7-444f-d8ec-15af7ad95f99",
        "colab": {
          "base_uri": "https://localhost:8080/"
        }
      },
      "execution_count": 93,
      "outputs": [
        {
          "output_type": "execute_result",
          "data": {
            "text/plain": [
              "array([[200., 200., 200., 200., 200.],\n",
              "       [200., 200., 200., 200., 200.],\n",
              "       [200., 200., 200., 200., 200.],\n",
              "       [200., 200., 200., 200., 200.]])"
            ]
          },
          "metadata": {},
          "execution_count": 93
        }
      ]
    },
    {
      "cell_type": "markdown",
      "source": [
        "### Matrix operations"
      ],
      "metadata": {
        "id": "8TEcwY4NP7sZ"
      }
    },
    {
      "cell_type": "markdown",
      "source": [
        "#### การบวก ลบ Matrix $M \\pm N$ บวกลบตัวที่อยู่ตำแหน่งเดียวกัน"
      ],
      "metadata": {
        "id": "ThWfiO6VQcTO"
      }
    },
    {
      "cell_type": "code",
      "source": [
        "arr2_4_5_200 + arr2_3_5_0   # การบวก ลบ matrix shape ต้องเท่ากัน"
      ],
      "metadata": {
        "id": "f9ZXL4qgQZU4",
        "outputId": "53179cfc-abd5-4d58-894e-48b2aa9be860",
        "colab": {
          "base_uri": "https://localhost:8080/",
          "height": 315
        }
      },
      "execution_count": 95,
      "outputs": [
        {
          "output_type": "error",
          "ename": "ValueError",
          "evalue": "ignored",
          "traceback": [
            "\u001b[0;31m---------------------------------------------------------------------------\u001b[0m",
            "\u001b[0;31mValueError\u001b[0m                                Traceback (most recent call last)",
            "\u001b[0;32m<ipython-input-94-1feffbdeba34>\u001b[0m in \u001b[0;36m<module>\u001b[0;34m()\u001b[0m\n\u001b[0;32m----> 1\u001b[0;31m \u001b[0marr2_4_5_200\u001b[0m \u001b[0;34m+\u001b[0m \u001b[0marr2_3_5_0\u001b[0m   \u001b[0;31m# การบวก ลบ matrix shape ต้องเท่ากัน\u001b[0m\u001b[0;34m\u001b[0m\u001b[0;34m\u001b[0m\u001b[0m\n\u001b[0m",
            "\u001b[0;31mValueError\u001b[0m: operands could not be broadcast together with shapes (4,5) (3,5) "
          ]
        },
        {
          "output_type": "error",
          "ename": "ValueError",
          "evalue": "ignored",
          "traceback": [
            "\u001b[0;31m---------------------------------------------------------------------------\u001b[0m",
            "\u001b[0;31mValueError\u001b[0m                                Traceback (most recent call last)",
            "\u001b[0;32m<ipython-input-95-1feffbdeba34>\u001b[0m in \u001b[0;36m<module>\u001b[0;34m()\u001b[0m\n\u001b[0;32m----> 1\u001b[0;31m \u001b[0marr2_4_5_200\u001b[0m \u001b[0;34m+\u001b[0m \u001b[0marr2_3_5_0\u001b[0m   \u001b[0;31m# การบวก ลบ matrix shape ต้องเท่ากัน\u001b[0m\u001b[0;34m\u001b[0m\u001b[0;34m\u001b[0m\u001b[0m\n\u001b[0m",
            "\u001b[0;31mValueError\u001b[0m: operands could not be broadcast together with shapes (4,5) (3,5) "
          ]
        }
      ]
    },
    {
      "cell_type": "code",
      "source": [
        "arr2_4_5_200 + arr2_4_5_1"
      ],
      "metadata": {
        "id": "YnwB2Ni5Q_q_",
        "outputId": "3ff734aa-74b2-4e72-b4cc-753a26f40d6b",
        "colab": {
          "base_uri": "https://localhost:8080/"
        }
      },
      "execution_count": 96,
      "outputs": [
        {
          "output_type": "execute_result",
          "data": {
            "text/plain": [
              "array([[201., 201., 201., 201., 201.],\n",
              "       [201., 201., 201., 201., 201.],\n",
              "       [201., 201., 201., 201., 201.],\n",
              "       [201., 201., 201., 201., 201.]])"
            ]
          },
          "metadata": {},
          "execution_count": 96
        }
      ]
    },
    {
      "cell_type": "markdown",
      "source": [
        "#### การคูณ matrix\n",
        "\n",
        "\n",
        "*  $aM$    scalar คูณ Matrix ( scalar คูณกระจายเข้าไปทุกตัว)\n",
        "*  $M\\times N$ Matrix คูณ Matrix (แถวคูณหลัก)"
      ],
      "metadata": {
        "id": "T6kbFlH9RThS"
      }
    },
    {
      "cell_type": "markdown",
      "source": [
        "$aM$"
      ],
      "metadata": {
        "id": "jA6S8kO5TemW"
      }
    },
    {
      "cell_type": "code",
      "source": [
        "5 * arr_a   # Matrix (scalar multiplication)"
      ],
      "metadata": {
        "id": "4JtZKGFRTQnT",
        "outputId": "c83dec6b-053c-4a67-fb49-570d8a082536",
        "colab": {
          "base_uri": "https://localhost:8080/"
        }
      },
      "execution_count": 97,
      "outputs": [
        {
          "output_type": "execute_result",
          "data": {
            "text/plain": [
              "array([ 5, 10, 15, 20, 25])"
            ]
          },
          "metadata": {},
          "execution_count": 97
        }
      ]
    },
    {
      "cell_type": "markdown",
      "source": [
        "$M\\times N$ (dot product)\n",
        "\n",
        "\n",
        "*  (m,n) $\\times$ (n,o) = (m,o) (Shape)\n",
        "![293683928_821314469239176_7018598284429711029_n.jpg](data:image/jpeg;base64,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)"
      ],
      "metadata": {
        "id": "EdWsKq7jTrKf"
      }
    },
    {
      "cell_type": "code",
      "source": [
        "mat_a = np.array([[2,3,5],[4,6,7]])\n",
        "mat_b = np.array([[1,2,5],[2,4,-7]])\n",
        "mat_c = np.array([[2,3],[4,6],[7,9]])"
      ],
      "metadata": {
        "id": "-gM5XPAgU7JI"
      },
      "execution_count": 102,
      "outputs": []
    },
    {
      "cell_type": "code",
      "source": [
        "mat_a"
      ],
      "metadata": {
        "id": "6xgT6A-0VzBQ",
        "outputId": "e4fb6860-d793-4e3b-e141-7e9d3020663f",
        "colab": {
          "base_uri": "https://localhost:8080/"
        }
      },
      "execution_count": 103,
      "outputs": [
        {
          "output_type": "execute_result",
          "data": {
            "text/plain": [
              "array([[2, 3, 5],\n",
              "       [4, 6, 7]])"
            ]
          },
          "metadata": {},
          "execution_count": 103
        }
      ]
    },
    {
      "cell_type": "code",
      "source": [
        "mat_b"
      ],
      "metadata": {
        "id": "QhY4mCQOV3Ok",
        "outputId": "2b2385f4-27cc-460f-8f2d-41ac82b6298e",
        "colab": {
          "base_uri": "https://localhost:8080/"
        }
      },
      "execution_count": 104,
      "outputs": [
        {
          "output_type": "execute_result",
          "data": {
            "text/plain": [
              "array([[ 1,  2,  5],\n",
              "       [ 2,  4, -7]])"
            ]
          },
          "metadata": {},
          "execution_count": 104
        }
      ]
    },
    {
      "cell_type": "code",
      "source": [
        "mat_c"
      ],
      "metadata": {
        "id": "CBO04A3UV5ZO",
        "outputId": "44d7c334-46e8-4268-fbb9-96085d47043c",
        "colab": {
          "base_uri": "https://localhost:8080/"
        }
      },
      "execution_count": 105,
      "outputs": [
        {
          "output_type": "execute_result",
          "data": {
            "text/plain": [
              "array([[2, 3],\n",
              "       [4, 6],\n",
              "       [7, 9]])"
            ]
          },
          "metadata": {},
          "execution_count": 105
        }
      ]
    },
    {
      "cell_type": "markdown",
      "source": [
        "axc, bxc"
      ],
      "metadata": {
        "id": "c9OSo2rHV9jN"
      }
    },
    {
      "cell_type": "code",
      "source": [
        "np.dot(mat_a,mat_c)"
      ],
      "metadata": {
        "id": "mIIMTugdWGr6",
        "outputId": "64142677-5b4a-49e9-d29a-a31589741ed9",
        "colab": {
          "base_uri": "https://localhost:8080/"
        }
      },
      "execution_count": 106,
      "outputs": [
        {
          "output_type": "execute_result",
          "data": {
            "text/plain": [
              "array([[ 51,  69],\n",
              "       [ 81, 111]])"
            ]
          },
          "metadata": {},
          "execution_count": 106
        }
      ]
    },
    {
      "cell_type": "code",
      "source": [
        "np.dot(mat_b,mat_c)"
      ],
      "metadata": {
        "id": "mzTYeXIaWMlA",
        "outputId": "fb927dc3-d065-40f8-9c5b-63b692c68f81",
        "colab": {
          "base_uri": "https://localhost:8080/"
        }
      },
      "execution_count": 108,
      "outputs": [
        {
          "output_type": "execute_result",
          "data": {
            "text/plain": [
              "array([[ 45,  60],\n",
              "       [-29, -33]])"
            ]
          },
          "metadata": {},
          "execution_count": 108
        }
      ]
    },
    {
      "cell_type": "markdown",
      "source": [
        "cxa, cxb"
      ],
      "metadata": {
        "id": "38KCV9LMWcUu"
      }
    },
    {
      "cell_type": "code",
      "source": [
        "np.dot(mat_c,mat_a)"
      ],
      "metadata": {
        "id": "40lxnPdzWjhq",
        "outputId": "339048c3-c73e-4ab7-acdc-0169bd202c3b",
        "colab": {
          "base_uri": "https://localhost:8080/"
        }
      },
      "execution_count": 109,
      "outputs": [
        {
          "output_type": "execute_result",
          "data": {
            "text/plain": [
              "array([[16, 24, 31],\n",
              "       [32, 48, 62],\n",
              "       [50, 75, 98]])"
            ]
          },
          "metadata": {},
          "execution_count": 109
        }
      ]
    },
    {
      "cell_type": "code",
      "source": [
        "mat_X = np.dot(mat_c,mat_b)\n",
        "print(mat_X)"
      ],
      "metadata": {
        "id": "IiQHD2c3WqPx",
        "outputId": "59197ae4-88f8-4332-e906-4af9799e2fee",
        "colab": {
          "base_uri": "https://localhost:8080/"
        }
      },
      "execution_count": 113,
      "outputs": [
        {
          "output_type": "stream",
          "name": "stdout",
          "text": [
            "[[  8  16 -11]\n",
            " [ 16  32 -22]\n",
            " [ 25  50 -28]]\n"
          ]
        }
      ]
    },
    {
      "cell_type": "code",
      "source": [
        "mat_a * mat_b   # คูณตัวตำแหน่งเดียวกัน"
      ],
      "metadata": {
        "id": "n7UWcXpjWx8a",
        "outputId": "1df4a2ef-0870-43f3-be3a-345da728ad3c",
        "colab": {
          "base_uri": "https://localhost:8080/"
        }
      },
      "execution_count": 111,
      "outputs": [
        {
          "output_type": "execute_result",
          "data": {
            "text/plain": [
              "array([[  2,   6,  25],\n",
              "       [  8,  24, -49]])"
            ]
          },
          "metadata": {},
          "execution_count": 111
        }
      ]
    },
    {
      "cell_type": "markdown",
      "source": [
        "### Matrix Slicing"
      ],
      "metadata": {
        "id": "ivRSrLLbXESd"
      }
    },
    {
      "cell_type": "code",
      "source": [
        "mat_X[:2,:2]"
      ],
      "metadata": {
        "id": "3HGPMT5FXNbT",
        "outputId": "f0356d01-eaec-43bc-cb65-d7214eba71bd",
        "colab": {
          "base_uri": "https://localhost:8080/"
        }
      },
      "execution_count": 114,
      "outputs": [
        {
          "output_type": "execute_result",
          "data": {
            "text/plain": [
              "array([[ 8, 16],\n",
              "       [16, 32]])"
            ]
          },
          "metadata": {},
          "execution_count": 114
        }
      ]
    },
    {
      "cell_type": "markdown",
      "source": [
        "HW 3\n",
        "\n",
        "\n",
        "1.  สร้าง array ที่เป็นรูป ต้น Christmas\n",
        "2.  slice เลข 1 ออกมาจาก array HW3 ด้วยการ slice แค่ครั้งเดียว"
      ],
      "metadata": {
        "id": "ZHzRu8x_X1qK"
      }
    },
    {
      "cell_type": "code",
      "source": [
        "HW3 = np.zeros((10,10))\n",
        "HW3"
      ],
      "metadata": {
        "id": "S1VkCmZ1Yx91",
        "outputId": "b02634f9-41cc-4869-f3c2-cb8a57ba78af",
        "colab": {
          "base_uri": "https://localhost:8080/"
        }
      },
      "execution_count": 116,
      "outputs": [
        {
          "output_type": "execute_result",
          "data": {
            "text/plain": [
              "array([[0., 0., 0., 0., 0., 0., 0., 0., 0., 0.],\n",
              "       [0., 0., 0., 0., 0., 0., 0., 0., 0., 0.],\n",
              "       [0., 0., 0., 0., 0., 0., 0., 0., 0., 0.],\n",
              "       [0., 0., 0., 0., 0., 0., 0., 0., 0., 0.],\n",
              "       [0., 0., 0., 0., 0., 0., 0., 0., 0., 0.],\n",
              "       [0., 0., 0., 0., 0., 0., 0., 0., 0., 0.],\n",
              "       [0., 0., 0., 0., 0., 0., 0., 0., 0., 0.],\n",
              "       [0., 0., 0., 0., 0., 0., 0., 0., 0., 0.],\n",
              "       [0., 0., 0., 0., 0., 0., 0., 0., 0., 0.],\n",
              "       [0., 0., 0., 0., 0., 0., 0., 0., 0., 0.]])"
            ]
          },
          "metadata": {},
          "execution_count": 116
        }
      ]
    },
    {
      "cell_type": "code",
      "source": [
        "HW3[::4,2] = 1\n",
        "HW3[::4,4] = 1\n",
        "HW3[::4,6] = 1\n",
        "HW3[::4,8] = 1\n",
        "HW3"
      ],
      "metadata": {
        "id": "0c5CvhqtYF1b",
        "outputId": "b895fabe-6142-47cc-b134-df1de2f4cde7",
        "colab": {
          "base_uri": "https://localhost:8080/"
        }
      },
      "execution_count": 117,
      "outputs": [
        {
          "output_type": "execute_result",
          "data": {
            "text/plain": [
              "array([[0., 0., 1., 0., 1., 0., 1., 0., 1., 0.],\n",
              "       [0., 0., 0., 0., 0., 0., 0., 0., 0., 0.],\n",
              "       [0., 0., 0., 0., 0., 0., 0., 0., 0., 0.],\n",
              "       [0., 0., 0., 0., 0., 0., 0., 0., 0., 0.],\n",
              "       [0., 0., 1., 0., 1., 0., 1., 0., 1., 0.],\n",
              "       [0., 0., 0., 0., 0., 0., 0., 0., 0., 0.],\n",
              "       [0., 0., 0., 0., 0., 0., 0., 0., 0., 0.],\n",
              "       [0., 0., 0., 0., 0., 0., 0., 0., 0., 0.],\n",
              "       [0., 0., 1., 0., 1., 0., 1., 0., 1., 0.],\n",
              "       [0., 0., 0., 0., 0., 0., 0., 0., 0., 0.]])"
            ]
          },
          "metadata": {},
          "execution_count": 117
        }
      ]
    }
  ]
}