{
  "nbformat": 4,
  "nbformat_minor": 0,
  "metadata": {
    "colab": {
      "name": "Recap 4-5.ipynb",
      "provenance": [],
      "toc_visible": true,
      "include_colab_link": true
    },
    "kernelspec": {
      "name": "python3",
      "display_name": "Python 3"
    },
    "language_info": {
      "name": "python"
    }
  },
  "cells": [
    {
      "cell_type": "markdown",
      "metadata": {
        "id": "view-in-github",
        "colab_type": "text"
      },
      "source": [
        "<a href=\"https://colab.research.google.com/github/chutimaq/BasicProg_DataViz65/blob/main/Homework1.ipynb\" target=\"_parent\"><img src=\"https://colab.research.google.com/assets/colab-badge.svg\" alt=\"Open In Colab\"/></a>"
      ]
    },
    {
      "cell_type": "markdown",
      "source": [
        "## Matrix Slicing"
      ],
      "metadata": {
        "id": "MZ7ECiJ1DEVj"
      }
    },
    {
      "cell_type": "code",
      "source": [
        "import numpy"
      ],
      "metadata": {
        "id": "8f0tL68oDOTS"
      },
      "execution_count": null,
      "outputs": []
    },
    {
      "cell_type": "code",
      "execution_count": null,
      "metadata": {
        "colab": {
          "base_uri": "https://localhost:8080/"
        },
        "id": "ZQXbbZjiC4yl",
        "outputId": "335f8288-34f2-435f-8f5c-e446c23cccf0"
      },
      "outputs": [
        {
          "output_type": "execute_result",
          "data": {
            "text/plain": [
              "array([[2, 4, 5],\n",
              "       [1, 2, 3],\n",
              "       [9, 8, 7],\n",
              "       [3, 6, 9]])"
            ]
          },
          "metadata": {},
          "execution_count": 5
        }
      ],
      "source": [
        "list_a = [[2,4,5],[1,2,3],[9,8,7],[3,6,9]]\n",
        "mat_a = numpy.array(list_a)\n",
        "mat_a"
      ]
    },
    {
      "cell_type": "code",
      "source": [
        "import numpy as np"
      ],
      "metadata": {
        "id": "NvwsaUf4EWTA"
      },
      "execution_count": null,
      "outputs": []
    },
    {
      "cell_type": "code",
      "source": [
        "list_b = [[-1,-1,2,4,5],[-2,-2,1,2,3],[-3,-3,9,8,7],[-4,-4,3,6,9]]\n",
        "mat_b = np.array(list_b)\n",
        "mat_b"
      ],
      "metadata": {
        "colab": {
          "base_uri": "https://localhost:8080/"
        },
        "id": "YCEZ0qJNEoAw",
        "outputId": "163c3001-d033-4c10-e7cf-aee37a5a6595"
      },
      "execution_count": null,
      "outputs": [
        {
          "output_type": "execute_result",
          "data": {
            "text/plain": [
              "array([[-1, -1,  2,  4,  5],\n",
              "       [-2, -2,  1,  2,  3],\n",
              "       [-3, -3,  9,  8,  7],\n",
              "       [-4, -4,  3,  6,  9]])"
            ]
          },
          "metadata": {},
          "execution_count": 8
        }
      ]
    },
    {
      "cell_type": "markdown",
      "source": [
        "## Quiz2\n",
        "\n",
        "1. slice ค่าลบออกมาจาก ```mat_b```\n",
        "2. slice ```[1,2,3]``` จาก ```mat_a```\n",
        "3. slice ```[[1,3],[9,7],[3,9]]``` ออกมาจาก ```mat_b```"
      ],
      "metadata": {
        "id": "wtf67yt-FSc3"
      }
    },
    {
      "cell_type": "markdown",
      "source": [
        "##Function ```Print```"
      ],
      "metadata": {
        "id": "HZ9WDUykQ7_v"
      }
    },
    {
      "cell_type": "code",
      "source": [
        "print()"
      ],
      "metadata": {
        "colab": {
          "base_uri": "https://localhost:8080/"
        },
        "id": "tDjbqTFCExUT",
        "outputId": "3d56413d-2ffd-4d73-da42-697952b79eff"
      },
      "execution_count": null,
      "outputs": [
        {
          "output_type": "stream",
          "name": "stdout",
          "text": [
            "\n"
          ]
        }
      ]
    },
    {
      "cell_type": "code",
      "source": [
        "print('สวัสดี')"
      ],
      "metadata": {
        "colab": {
          "base_uri": "https://localhost:8080/"
        },
        "id": "d7SN-SZcRBN_",
        "outputId": "043775a3-623c-4ebf-b0a1-f6a4450f7ab2"
      },
      "execution_count": null,
      "outputs": [
        {
          "output_type": "stream",
          "name": "stdout",
          "text": [
            "สวัสดี\n"
          ]
        }
      ]
    },
    {
      "cell_type": "code",
      "source": [
        "print('hello')\n",
        "print('สวัสดี')"
      ],
      "metadata": {
        "colab": {
          "base_uri": "https://localhost:8080/"
        },
        "id": "tkeRD-x_RKvG",
        "outputId": "4ebdd271-708c-4d26-9050-7fc624735816"
      },
      "execution_count": null,
      "outputs": [
        {
          "output_type": "stream",
          "name": "stdout",
          "text": [
            "hello\n",
            "สวัสดี\n"
          ]
        }
      ]
    },
    {
      "cell_type": "code",
      "source": [
        "print('hello',end=' ')\n",
        "print('สวัสดี')"
      ],
      "metadata": {
        "colab": {
          "base_uri": "https://localhost:8080/"
        },
        "id": "9Q7xnBlIRP-S",
        "outputId": "c239fd6d-eb0c-4204-dac3-1a3375fb31ac"
      },
      "execution_count": null,
      "outputs": [
        {
          "output_type": "stream",
          "name": "stdout",
          "text": [
            "hello สวัสดี\n"
          ]
        }
      ]
    },
    {
      "cell_type": "code",
      "source": [
        "print('hello','สวัสดี')"
      ],
      "metadata": {
        "colab": {
          "base_uri": "https://localhost:8080/"
        },
        "id": "zzck9YvJRXlD",
        "outputId": "7ac41df1-9d83-40fe-ee37-7f3f20e6b92d"
      },
      "execution_count": null,
      "outputs": [
        {
          "output_type": "stream",
          "name": "stdout",
          "text": [
            "hello สวัสดี\n"
          ]
        }
      ]
    },
    {
      "cell_type": "code",
      "source": [
        "print('hello','สวัสดี',sep='\\n')"
      ],
      "metadata": {
        "colab": {
          "base_uri": "https://localhost:8080/"
        },
        "id": "4DL7guIQRh-I",
        "outputId": "96f93e95-6e44-40ba-b392-b1c3c35636ed"
      },
      "execution_count": null,
      "outputs": [
        {
          "output_type": "stream",
          "name": "stdout",
          "text": [
            "hello\n",
            "สวัสดี\n"
          ]
        }
      ]
    },
    {
      "cell_type": "code",
      "source": [
        "print('hello',end='')\n",
        "print('สวัสดี')"
      ],
      "metadata": {
        "colab": {
          "base_uri": "https://localhost:8080/"
        },
        "id": "LcmlMdDHRrWD",
        "outputId": "cd7e89b8-309e-4533-e5ab-7370fcd16a64"
      },
      "execution_count": null,
      "outputs": [
        {
          "output_type": "stream",
          "name": "stdout",
          "text": [
            "helloสวัสดี\n"
          ]
        }
      ]
    },
    {
      "cell_type": "markdown",
      "source": [
        "## Hw1"
      ],
      "metadata": {
        "id": "oxOJ0-29P-Ur"
      }
    },
    {
      "cell_type": "markdown",
      "source": [
        "เขียน function \n",
        "แสดงความต่างของเวลา (Quiz1)\n",
        "โดย input อยู่ในรูปแบบ ```'09:11:50 - 12:30:15'```\n",
        "\n",
        "และทดลองรัน\n",
        "\n",
        "* '09:11:50 - 12:30:15'\n",
        "* '13:41:07 - 20:00:18'\n",
        "* '00:00:00 - 23:59:59'"
      ],
      "metadata": {
        "id": "3yUVmRymTay0"
      }
    },
    {
      "cell_type": "code",
      "source": [
        "def print_time(time) :\n",
        "      x= time\n",
        "      y=x.split(' - ')\n",
        "      z0=y[0].split(':')\n",
        "      z1=y[1].split(':')\n",
        "      print(y)\n",
        "      print(z0)\n",
        "      print(z1)\n",
        "      total_sec=((int(z1[0])*3600)+(int(z1[1])*60)+(int(z1[2])))-((int(z0[0])*3600)+(int(z0[1])*60)+(int(z0[2])))\n",
        "      print(f'ความต่างของเวลา = {total_sec} วินาที')"
      ],
      "metadata": {
        "id": "S36Kbh1NR8Rx"
      },
      "execution_count": null,
      "outputs": []
    },
    {
      "cell_type": "code",
      "source": [
        "print_time('09:11:50 - 12:30:15')"
      ],
      "metadata": {
        "colab": {
          "base_uri": "https://localhost:8080/"
        },
        "id": "VfB3kL9y7yf5",
        "outputId": "2cb47344-0ffc-4e78-f958-3e08d04929b1"
      },
      "execution_count": null,
      "outputs": [
        {
          "output_type": "stream",
          "name": "stdout",
          "text": [
            "['09:11:50', '12:30:15']\n",
            "['09', '11', '50']\n",
            "['12', '30', '15']\n",
            "ความต่างของเวลา = 11905 วินาที\n"
          ]
        }
      ]
    },
    {
      "cell_type": "code",
      "source": [
        "print_time('13:41:07 - 20:00:18')"
      ],
      "metadata": {
        "outputId": "bfb02957-4f09-4872-c4dc-889e7f37cf00",
        "colab": {
          "base_uri": "https://localhost:8080/"
        },
        "id": "mkQ-oSusGMTK"
      },
      "execution_count": null,
      "outputs": [
        {
          "output_type": "stream",
          "name": "stdout",
          "text": [
            "['13:41:07', '20:00:18']\n",
            "['13', '41', '07']\n",
            "['20', '00', '18']\n",
            "ความต่างของเวลา = 22751 วินาที\n"
          ]
        }
      ]
    },
    {
      "cell_type": "code",
      "source": [
        "print_time('00:00:00 - 23:59:59')"
      ],
      "metadata": {
        "id": "bKfjFMETGscs",
        "outputId": "57c98955-c414-4baa-a84f-6f5d36697a08",
        "colab": {
          "base_uri": "https://localhost:8080/"
        }
      },
      "execution_count": null,
      "outputs": [
        {
          "output_type": "stream",
          "name": "stdout",
          "text": [
            "['00:00:00', '23:59:59']\n",
            "['00', '00', '00']\n",
            "['23', '59', '59']\n",
            "ความต่างของเวลา = 86399 วินาที\n"
          ]
        }
      ]
    },
    {
      "cell_type": "markdown",
      "source": [
        "## เฉลย Hw1"
      ],
      "metadata": {
        "id": "pacjxraxPxET"
      }
    },
    {
      "cell_type": "code",
      "source": [
        "input = '09:11:50 - 12:30:15'\n",
        "input"
      ],
      "metadata": {
        "id": "hElmrTtwRkI1",
        "outputId": "5a02d199-88ab-4011-99ac-1c5d2faf056c",
        "colab": {
          "base_uri": "https://localhost:8080/",
          "height": 35
        }
      },
      "execution_count": 2,
      "outputs": [
        {
          "output_type": "execute_result",
          "data": {
            "text/plain": [
              "'09:11:50 - 12:30:15'"
            ],
            "application/vnd.google.colaboratory.intrinsic+json": {
              "type": "string"
            }
          },
          "metadata": {},
          "execution_count": 2
        }
      ]
    },
    {
      "cell_type": "code",
      "source": [
        "input_split = input.split(' - ')\n",
        "input_split"
      ],
      "metadata": {
        "id": "j8OfeftWRvZR",
        "outputId": "08bbfb14-f1f6-40f8-b538-da6029e61052",
        "colab": {
          "base_uri": "https://localhost:8080/"
        }
      },
      "execution_count": 5,
      "outputs": [
        {
          "output_type": "execute_result",
          "data": {
            "text/plain": [
              "['09:11:50', '12:30:15']"
            ]
          },
          "metadata": {},
          "execution_count": 5
        }
      ]
    },
    {
      "cell_type": "code",
      "source": [
        "starttimeSP = input_split[0].split (':')\n",
        "endtimeSP = input_split[0].split(':')\n",
        "print(starttimeSP,endtimeSP,sep='\\n')"
      ],
      "metadata": {
        "id": "eR8EvhApSJPI",
        "outputId": "dc0fc735-77d5-4b43-aaab-3fa7d34e670b",
        "colab": {
          "base_uri": "https://localhost:8080/"
        }
      },
      "execution_count": 4,
      "outputs": [
        {
          "output_type": "stream",
          "name": "stdout",
          "text": [
            "['09', '11', '50']\n",
            "['09', '11', '50']\n"
          ]
        }
      ]
    },
    {
      "cell_type": "code",
      "source": [
        "def calculate_time(input):\n",
        "    input_split = input.split(' - ')\n",
        "    starttimeSP = input_split[0].split(':')\n",
        "    endtimeSP = input_split[-1].split(':')\n",
        "\n",
        "    starttime = 3600*int(starttimeSP[0]) + 60*int(starttimeSP[1]) + int(starttimeSP[2])\n",
        "    endtime = 3600*int(endtimeSP[0]) + 60*int(endtimeSP[1]) + int(endtimeSP[2])\n",
        "    print(f'ระยะเวลาระหว่าง {input_split[0]} และ {input_split[1]} ห่างกันเท่ากับ {endtime-starttime:,} วินาที')  "
      ],
      "metadata": {
        "id": "nkmoWXl3PlsB"
      },
      "execution_count": 6,
      "outputs": []
    },
    {
      "cell_type": "code",
      "source": [
        "calculate_time ('09:11:50 - 12:30:15')"
      ],
      "metadata": {
        "id": "50xWXRm3RaKx",
        "outputId": "59efa9d9-cdf6-45da-c894-af7cdbcc50ff",
        "colab": {
          "base_uri": "https://localhost:8080/"
        }
      },
      "execution_count": 7,
      "outputs": [
        {
          "output_type": "stream",
          "name": "stdout",
          "text": [
            "ระยะเวลาระหว่าง 09:11:50 และ 12:30:15 ห่างกันเท่ากับ 11,905 วินาที\n"
          ]
        }
      ]
    }
  ]
}