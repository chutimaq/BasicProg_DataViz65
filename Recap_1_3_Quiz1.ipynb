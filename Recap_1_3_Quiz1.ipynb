{
  "nbformat": 4,
  "nbformat_minor": 0,
  "metadata": {
    "colab": {
      "name": "Recap 1-3 Quiz1.ipynb",
      "provenance": [],
      "include_colab_link": true
    },
    "kernelspec": {
      "name": "python3",
      "display_name": "Python 3"
    },
    "language_info": {
      "name": "python"
    }
  },
  "cells": [
    {
      "cell_type": "markdown",
      "metadata": {
        "id": "view-in-github",
        "colab_type": "text"
      },
      "source": [
        "<a href=\"https://colab.research.google.com/github/chutimaq/BasicProg_DataViz65/blob/main/Recap_1_3_Quiz1.ipynb\" target=\"_parent\"><img src=\"https://colab.research.google.com/assets/colab-badge.svg\" alt=\"Open In Colab\"/></a>"
      ]
    },
    {
      "cell_type": "markdown",
      "source": [
        "Quiz 1 \n",
        "\n",
        "คำนวณเวลาเป็นความต่างของเวลาเป็นวินาทีของช่วงเวลาต่อไปนี้โดยใช้คำสั่ง split() ช่วย และ print ออกมาให้สวยงาม\n",
        "\n",
        "* 09:11:50 - 12:30:15\n",
        "* 13:41:07 - 20:00:18\n",
        "* 21:30:15 - 00:00:00\n",
        "* 00:00:00 - 23:59:59\n",
        "\n",
        "\n",
        "\n",
        "\n",
        "\n"
      ],
      "metadata": {
        "id": "FKKg2s03yfKC"
      }
    },
    {
      "cell_type": "code",
      "source": [
        "# 09:11:50 - 12:30:15\n",
        "\n",
        "q1 = '09:11:50'\n",
        "Q1 = q1.split(\":\")\n",
        "hours3 = int(Q1[0])*3600\n",
        "minutes3 = int(Q1[1])*60\n",
        "seconds3 = int(Q1[2])\n",
        "f1 =  hours3 + minutes3 + seconds3\n",
        "print(Q1)\n",
        "q2 = '12:30:15'\n",
        "Q2 = q2.split(\":\")\n",
        "hours2 = int(Q2[0])*3600\n",
        "minutes2 = int(Q2[1])*60\n",
        "seconds2 = int(Q2[2])\n",
        "f2 =  hours2 + minutes2 + seconds2\n",
        "print(Q2)\n",
        "print(f'{q1} - {q2} แปลงเป็นความต่างของเวลาเป็นวินาทีได้ {f2-f1} วินาที')"
      ],
      "metadata": {
        "id": "uoBB7EwdZnIW",
        "outputId": "70c4812e-4084-430e-b79a-1df0b0d2405c",
        "colab": {
          "base_uri": "https://localhost:8080/"
        }
      },
      "execution_count": 39,
      "outputs": [
        {
          "output_type": "stream",
          "name": "stdout",
          "text": [
            "['09', '11', '50']\n",
            "['12', '30', '15']\n",
            "09:11:50 - 12:30:15 แปลงเป็นความต่างของเวลาเป็นวินาทีได้ 11905 วินาที\n"
          ]
        }
      ]
    },
    {
      "cell_type": "code",
      "source": [
        "# 13:41:07 - 20:00:18\n",
        "\n",
        "q3 = '13:41:07'\n",
        "Q3 = q3.split(\":\")\n",
        "hours3 = int(Q3[0])*3600\n",
        "minutes3 = int(Q3[1])*60\n",
        "seconds3 = int(Q3[2])\n",
        "f3 =  hours3 + minutes3 + seconds3\n",
        "print(Q3)\n",
        "\n",
        "q4 = '20:00:18'\n",
        "Q4 = q4.split(\":\")\n",
        "hours4 = int(Q4[0])*3600\n",
        "minutes4 = int(Q4[1])*60\n",
        "seconds4 = int(Q4[2])\n",
        "f4 =  hours4 + minutes4 + seconds4\n",
        "print(Q4)\n",
        "\n",
        "print(f'{q3} - {q4} แปลงเป็นความต่างของเวลาเป็นวินาทีได้ {f4-f3} วินาที')"
      ],
      "metadata": {
        "id": "yf4OrvKhZo4z",
        "outputId": "ce4a7ada-4995-4b21-8fb5-bf009a08aebd",
        "colab": {
          "base_uri": "https://localhost:8080/"
        }
      },
      "execution_count": 40,
      "outputs": [
        {
          "output_type": "stream",
          "name": "stdout",
          "text": [
            "['13', '41', '07']\n",
            "['20', '00', '18']\n",
            "13:41:07 - 20:00:18 แปลงเป็นความต่างของเวลาเป็นวินาทีได้ 22751 วินาที\n"
          ]
        }
      ]
    },
    {
      "cell_type": "code",
      "source": [
        "# 21:30:15 - 00:00:00\n",
        "\n",
        "q5 = '21:30:15'\n",
        "Q5 = q5.split(\":\")\n",
        "hours5 = int(Q5[0])*3600\n",
        "minutes5 = int(Q5[1])*60\n",
        "seconds5 = int(Q5[2])\n",
        "f5 =  hours5 + minutes5 + seconds5\n",
        "print(Q5)\n",
        "\n",
        "q6 = '24:00:00'\n",
        "Q6 = q6.split(\":\")\n",
        "hours6 = int(Q6[0])*3600\n",
        "minutes6 = int(Q6[1])*60\n",
        "seconds6 = int(Q6[2])\n",
        "f6 =  hours6 + minutes6 + seconds6\n",
        "print(Q6)\n",
        "\n",
        "print(f'{q5} - {q6} แปลงเป็นความต่างของเวลาเป็นวินาทีได้ {f6-f5} วินาที')"
      ],
      "metadata": {
        "id": "xifUexj-Z3oe",
        "outputId": "d74f980e-de91-4686-f1ce-e0918f63be37",
        "colab": {
          "base_uri": "https://localhost:8080/"
        }
      },
      "execution_count": 41,
      "outputs": [
        {
          "output_type": "stream",
          "name": "stdout",
          "text": [
            "['21', '30', '15']\n",
            "['24', '00', '00']\n",
            "21:30:15 - 24:00:00 แปลงเป็นความต่างของเวลาเป็นวินาทีได้ 8985 วินาที\n"
          ]
        }
      ]
    },
    {
      "cell_type": "code",
      "source": [
        "# 00:00:00 - 23:59:59\n",
        "\n",
        "q7 = '00:00:00'\n",
        "Q7 = q7.split(\":\")\n",
        "hours7 = int(Q7[0])*3600\n",
        "minutes7 = int(Q7[1])*60\n",
        "seconds7 = int(Q7[2])\n",
        "f7 =  hours7 + minutes7 + seconds7\n",
        "print(Q7)\n",
        "\n",
        "q8 = '23:59:59'\n",
        "Q8 = q8.split(\":\")\n",
        "hours8 = int(Q8[0])*3600\n",
        "minutes8 = int(Q8[1])*60\n",
        "seconds8 = int(Q8[2])\n",
        "f8 =  hours8 + minutes8 + seconds8\n",
        "print(Q8)\n",
        "\n",
        "print(f'{q7} - {q8} แปลงเป็นความต่างของเวลาเป็นวินาทีได้ {f8-f7} วินาที')"
      ],
      "metadata": {
        "id": "Vebtj8HwZ8Jr",
        "outputId": "6fb2a128-4563-418f-82a0-013b28ce4f79",
        "colab": {
          "base_uri": "https://localhost:8080/"
        }
      },
      "execution_count": 43,
      "outputs": [
        {
          "output_type": "stream",
          "name": "stdout",
          "text": [
            "['00', '00', '00']\n",
            "['23', '59', '59']\n",
            "00:00:00 - 23:59:59 แปลงเป็นความต่างของเวลาเป็นวินาทีได้ 86399 วินาที\n"
          ]
        }
      ]
    }
  ]
}