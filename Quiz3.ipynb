{
  "nbformat": 4,
  "nbformat_minor": 0,
  "metadata": {
    "colab": {
      "name": "Untitled0.ipynb",
      "provenance": [],
      "authorship_tag": "ABX9TyMn6SmRuHKu8OUt7k+W/cRv",
      "include_colab_link": true
    },
    "kernelspec": {
      "name": "python3",
      "display_name": "Python 3"
    },
    "language_info": {
      "name": "python"
    }
  },
  "cells": [
    {
      "cell_type": "markdown",
      "metadata": {
        "id": "view-in-github",
        "colab_type": "text"
      },
      "source": [
        "<a href=\"https://colab.research.google.com/github/chutimaq/BasicProg_DataViz65/blob/main/Quiz3.ipynb\" target=\"_parent\"><img src=\"https://colab.research.google.com/assets/colab-badge.svg\" alt=\"Open In Colab\"/></a>"
      ]
    },
    {
      "cell_type": "markdown",
      "source": [
        "\n",
        "## Quiz3\n",
        "\n",
        "เขียน function แสดงความต่างของเวลาโดย input อยู่ในรูปแบบ 'XX:YY:ZZ - AA:BB:CC'\n",
        "\n",
        "และวนลูปแสดงผลของ input ต่อไปนี้\n",
        "*  '09:11:50 - 12:30:15'\n",
        "*   '13:41:07 - 20:00:18'\n",
        "*   '00:00:00 - 23:59:59'\n",
        "*   '18:04:11 - 00:00:00'\n",
        "*   '21:30:00 - 03:05:15'\n",
        "\n",
        "ตัวอย่าง input ```'00:00:00-01:00:00'```\n",
        "\n",
        "output ```ช่วงระยะเวลาระหว่าง 00:00:00 ถึง 01:00:00 มีเวลาทั้งหมด 3,600 วินาที```\n"
      ],
      "metadata": {
        "id": "Yw96B4Goerlz"
      }
    },
    {
      "cell_type": "code",
      "source": [
        "def calculate_time(input):\n",
        "    input_split = input.split(' - ')\n",
        "    starttimeSP = input_split[0].split(':')\n",
        "    endtimeSP = input_split[-1].split(':')\n",
        "\n",
        "    starttime = 3600*int(starttimeSP[0]) + 60*int(starttimeSP[1]) + int(starttimeSP[2])\n",
        "    endtime = 3600*int(endtimeSP[0]) + 60*int(endtimeSP[1]) + int(endtimeSP[2])\n",
        "\n",
        "    if starttime > endtime:\n",
        "      endtime = 86400 + endtime\n",
        "      \n",
        "    print(f'ช่วงระยะเวลาระหว่าง {input_split[0]} ถึง {input_split[1]} มีเวลาทั้งหมด {endtime-starttime:,} วินาที')"
      ],
      "metadata": {
        "id": "Yb9L6GQtit-r"
      },
      "execution_count": 8,
      "outputs": []
    },
    {
      "cell_type": "code",
      "source": [
        "calculate_time ('09:11:50 - 12:30:15')"
      ],
      "metadata": {
        "id": "jS7OLtidhSV7",
        "colab": {
          "base_uri": "https://localhost:8080/"
        },
        "outputId": "dcc556ff-550f-4b30-dae5-5fcfd15baae7"
      },
      "execution_count": 3,
      "outputs": [
        {
          "output_type": "stream",
          "name": "stdout",
          "text": [
            "ช่วงระยะเวลาระหว่าง 09:11:50 ถึง 12:30:15 มีเวลาทั้งหมด 11,905 วินาที\n"
          ]
        }
      ]
    },
    {
      "cell_type": "code",
      "source": [
        "calculate_time ('13:41:07 - 20:00:18')"
      ],
      "metadata": {
        "outputId": "4de46a90-3de4-4a3e-9817-5fd23414c320",
        "colab": {
          "base_uri": "https://localhost:8080/"
        },
        "id": "cEFb32oXwJDH"
      },
      "execution_count": 4,
      "outputs": [
        {
          "output_type": "stream",
          "name": "stdout",
          "text": [
            "ช่วงระยะเวลาระหว่าง 13:41:07 ถึง 20:00:18 มีเวลาทั้งหมด 22,751 วินาที\n"
          ]
        }
      ]
    },
    {
      "cell_type": "code",
      "source": [
        "calculate_time ('00:00:00 - 23:59:59')"
      ],
      "metadata": {
        "outputId": "8d516b7d-a4b1-489f-8300-2403a15f4c72",
        "colab": {
          "base_uri": "https://localhost:8080/"
        },
        "id": "0CZRMhNqwIen"
      },
      "execution_count": 5,
      "outputs": [
        {
          "output_type": "stream",
          "name": "stdout",
          "text": [
            "ช่วงระยะเวลาระหว่าง 00:00:00 ถึง 23:59:59 มีเวลาทั้งหมด 86,399 วินาที\n"
          ]
        }
      ]
    },
    {
      "cell_type": "code",
      "source": [
        "calculate_time ('18:04:11 - 00:00:00')"
      ],
      "metadata": {
        "outputId": "0a8d02c4-677b-4c11-9c72-65bebeddf42a",
        "colab": {
          "base_uri": "https://localhost:8080/"
        },
        "id": "uGrDDMZHwrSg"
      },
      "execution_count": 7,
      "outputs": [
        {
          "output_type": "stream",
          "name": "stdout",
          "text": [
            "ช่วงระยะเวลาระหว่าง 18:04:11 ถึง 00:00:00 มีเวลาทั้งหมด 21,349 วินาที\n"
          ]
        }
      ]
    },
    {
      "cell_type": "code",
      "source": [
        "calculate_time ('21:30:00 - 03:05:15')"
      ],
      "metadata": {
        "outputId": "a3aa0894-ae1b-49a4-fd2d-0204f9eb4023",
        "colab": {
          "base_uri": "https://localhost:8080/"
        },
        "id": "8JJNxfeewH02"
      },
      "execution_count": 6,
      "outputs": [
        {
          "output_type": "stream",
          "name": "stdout",
          "text": [
            "ช่วงระยะเวลาระหว่าง 21:30:00 ถึง 03:05:15 มีเวลาทั้งหมด 20,115 วินาที\n"
          ]
        }
      ]
    }
  ]
}