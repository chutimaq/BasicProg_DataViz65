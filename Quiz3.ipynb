{
  "nbformat": 4,
  "nbformat_minor": 0,
  "metadata": {
    "colab": {
      "name": "Untitled0.ipynb",
      "provenance": [],
      "authorship_tag": "ABX9TyNm5HbHtdixnjmNmGUelJdf",
      "include_colab_link": true
    },
    "kernelspec": {
      "name": "python3",
      "display_name": "Python 3"
    },
    "language_info": {
      "name": "python"
    }
  },
  "cells": [
    {
      "cell_type": "markdown",
      "metadata": {
        "id": "view-in-github",
        "colab_type": "text"
      },
      "source": [
        "<a href=\"https://colab.research.google.com/github/chutimaq/BasicProg_DataViz65/blob/main/Quiz3.ipynb\" target=\"_parent\"><img src=\"https://colab.research.google.com/assets/colab-badge.svg\" alt=\"Open In Colab\"/></a>"
      ]
    },
    {
      "cell_type": "markdown",
      "source": [
        ""
      ],
      "metadata": {
        "id": "zgn4P-KaiNwu"
      }
    },
    {
      "cell_type": "markdown",
      "source": [
        "\n",
        "## Quiz3\n",
        "\n",
        "เขียน function แสดงความต่างของเวลาโดย input อยู่ในรูปแบบ 'XX:YY:ZZ - AA:BB:CC'\n",
        "\n",
        "และวนลูปแสดงผลของ input ต่อไปนี้\n",
        "*  '09:11:50 - 12:30:15'\n",
        "*   '13:41:07 - 20:00:18'\n",
        "*   '00:00:00 - 23:59:59'\n",
        "*   '18:04:11 - 00:00:00'\n",
        "*   '21:30:00 - 03:05:15'\n",
        "\n",
        "ตัวอย่าง input ```'00:00:00-01:00:00'```\n",
        "\n",
        "output ```ช่วงระยะเวลาระหว่าง 00:00:00 ถึง 01:00:00 มีเวลาทั้งหมด 3,600 วินาที```\n"
      ],
      "metadata": {
        "id": "Yw96B4Goerlz"
      }
    },
    {
      "cell_type": "code",
      "source": [
        "def calculate_time(input):\n",
        "    for "
      ],
      "metadata": {
        "id": "Yb9L6GQtit-r"
      },
      "execution_count": 1,
      "outputs": []
    },
    {
      "cell_type": "markdown",
      "source": [
        ""
      ],
      "metadata": {
        "id": "tI_oS2rnmKft"
      }
    },
    {
      "cell_type": "code",
      "source": [
        "def calculate_time(input):\n",
        "    input_split = input.split(' - ')\n",
        "    starttimeSP = input_split[0].split(':')\n",
        "    endtimeSP = input_split[-1].split(':')\n",
        "\n",
        "    starttime = 3600*int(starttimeSP[0]) + 60*int(starttimeSP[1]) + int(starttimeSP[2])\n",
        "    endtime = 3600*int(endtimeSP[0]) + 60*int(endtimeSP[1]) + int(endtimeSP[2])\n",
        "    print(f'ช่วงระยะเวลาระหว่าง {input_split[0]} ถึง {input_split[1]} มีเวลาทั้งหมด {endtime-starttime:,} วินาที')  "
      ],
      "metadata": {
        "id": "jS7OLtidhSV7"
      },
      "execution_count": 2,
      "outputs": []
    }
  ]
}