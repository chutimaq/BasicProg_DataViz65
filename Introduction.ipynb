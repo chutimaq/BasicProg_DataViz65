{
  "nbformat": 4,
  "nbformat_minor": 0,
  "metadata": {
    "colab": {
      "name": "Introduction.ipynb",
      "provenance": [],
      "authorship_tag": "ABX9TyPRBmPjyrCiuHpavSJ4KVRU",
      "include_colab_link": true
    },
    "kernelspec": {
      "name": "python3",
      "display_name": "Python 3"
    },
    "language_info": {
      "name": "python"
    }
  },
  "cells": [
    {
      "cell_type": "markdown",
      "metadata": {
        "id": "view-in-github",
        "colab_type": "text"
      },
      "source": [
        "<a href=\"https://colab.research.google.com/github/chutimaq/BasicProg_DataViz65/blob/main/Introduction.ipynb\" target=\"_parent\"><img src=\"https://colab.research.google.com/assets/colab-badge.svg\" alt=\"Open In Colab\"/></a>"
      ]
    },
    {
      "cell_type": "markdown",
      "source": [
        "ชุติมา คำคูบอน (633021014-1)"
      ],
      "metadata": {
        "id": "LKUktbMSFcsj"
      }
    },
    {
      "cell_type": "markdown",
      "source": [
        "# Markdown"
      ],
      "metadata": {
        "id": "YWdlmc51GSIK"
      }
    },
    {
      "cell_type": "markdown",
      "source": [
        "## heading2"
      ],
      "metadata": {
        "id": "B-rgesx4GXCt"
      }
    },
    {
      "cell_type": "markdown",
      "source": [
        "https://www.markdownguide.org/cheat-sheet/"
      ],
      "metadata": {
        "id": "5mhhvvmEH3s2"
      }
    },
    {
      "cell_type": "code",
      "source": [
        "print('chutima')"
      ],
      "metadata": {
        "colab": {
          "base_uri": "https://localhost:8080/"
        },
        "id": "gt-jEvKXHDfs",
        "outputId": "aa7f3b24-d313-4b1d-b539-7363747eca0d"
      },
      "execution_count": 3,
      "outputs": [
        {
          "output_type": "stream",
          "name": "stdout",
          "text": [
            "chutima\n"
          ]
        }
      ]
    }
  ]
}